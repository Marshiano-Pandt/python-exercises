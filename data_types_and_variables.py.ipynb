{
 "cells": [
  {
   "cell_type": "code",
   "execution_count": 1,
   "id": "2eef7d81",
   "metadata": {},
   "outputs": [
    {
     "data": {
      "text/plain": [
       "float"
      ]
     },
     "execution_count": 1,
     "metadata": {},
     "output_type": "execute_result"
    }
   ],
   "source": [
    "# Identify the data type of the following values:\n",
    "\n",
    "\n",
    "type(99.9)"
   ]
  },
  {
   "cell_type": "code",
   "execution_count": 2,
   "id": "842d09af",
   "metadata": {},
   "outputs": [
    {
     "data": {
      "text/plain": [
       "bool"
      ]
     },
     "execution_count": 2,
     "metadata": {},
     "output_type": "execute_result"
    }
   ],
   "source": [
    "type(False)"
   ]
  },
  {
   "cell_type": "code",
   "execution_count": 4,
   "id": "9cc74b40",
   "metadata": {},
   "outputs": [
    {
     "data": {
      "text/plain": [
       "bool"
      ]
     },
     "execution_count": 4,
     "metadata": {},
     "output_type": "execute_result"
    }
   ],
   "source": [
    "type(False)"
   ]
  },
  {
   "cell_type": "code",
   "execution_count": 5,
   "id": "614ba949",
   "metadata": {},
   "outputs": [
    {
     "data": {
      "text/plain": [
       "str"
      ]
     },
     "execution_count": 5,
     "metadata": {},
     "output_type": "execute_result"
    }
   ],
   "source": [
    "type('0')"
   ]
  },
  {
   "cell_type": "code",
   "execution_count": 6,
   "id": "1ee9607e",
   "metadata": {},
   "outputs": [
    {
     "data": {
      "text/plain": [
       "int"
      ]
     },
     "execution_count": 6,
     "metadata": {},
     "output_type": "execute_result"
    }
   ],
   "source": [
    "type(0)"
   ]
  },
  {
   "cell_type": "code",
   "execution_count": 7,
   "id": "fce576ea",
   "metadata": {},
   "outputs": [
    {
     "data": {
      "text/plain": [
       "bool"
      ]
     },
     "execution_count": 7,
     "metadata": {},
     "output_type": "execute_result"
    }
   ],
   "source": [
    "type(True)"
   ]
  },
  {
   "cell_type": "code",
   "execution_count": 9,
   "id": "25e72cdf",
   "metadata": {},
   "outputs": [
    {
     "data": {
      "text/plain": [
       "str"
      ]
     },
     "execution_count": 9,
     "metadata": {},
     "output_type": "execute_result"
    }
   ],
   "source": [
    "type('True')"
   ]
  },
  {
   "cell_type": "code",
   "execution_count": 10,
   "id": "a6a6a511",
   "metadata": {},
   "outputs": [
    {
     "data": {
      "text/plain": [
       "[{}]"
      ]
     },
     "execution_count": 10,
     "metadata": {},
     "output_type": "execute_result"
    }
   ],
   "source": [
    "[{}]"
   ]
  },
  {
   "cell_type": "code",
   "execution_count": 11,
   "id": "307d980b",
   "metadata": {},
   "outputs": [
    {
     "data": {
      "text/plain": [
       "{'a': []}"
      ]
     },
     "execution_count": 11,
     "metadata": {},
     "output_type": "execute_result"
    }
   ],
   "source": [
    "{'a' : []}"
   ]
  },
  {
   "cell_type": "markdown",
   "id": "dad05804",
   "metadata": {},
   "source": [
    " 2. What data type would best represent the following?\n",
    "\n",
    "A term or phrase typed into a search box - string\n",
    "\n",
    "Whether or not a user is logged in - boolean\n",
    "\n",
    "A discount amount to apply to a user's shopping cart - interger, float\n",
    "\n",
    "Whether or not a coupon code is valid - boolean\n",
    "\n",
    "An email address typed into a registration form - string\n",
    "\n",
    "The price of a product - interger\n",
    "\n",
    "The email addresses collected from a registration form -boolean\n",
    "\n",
    "Information about applicants to Codeup's data science program - boolean"
   ]
  },
  {
   "cell_type": "code",
   "execution_count": null,
   "id": "a995d49c",
   "metadata": {},
   "outputs": [],
   "source": []
  },
  {
   "cell_type": "code",
   "execution_count": 12,
   "id": "f3673421",
   "metadata": {},
   "outputs": [
    {
     "ename": "TypeError",
     "evalue": "can only concatenate str (not \"int\") to str",
     "output_type": "error",
     "traceback": [
      "\u001b[0;31m---------------------------------------------------------------------------\u001b[0m",
      "\u001b[0;31mTypeError\u001b[0m                                 Traceback (most recent call last)",
      "Cell \u001b[0;32mIn[12], line 1\u001b[0m\n\u001b[0;32m----> 1\u001b[0m \u001b[38;5;124m'\u001b[39m\u001b[38;5;124m1\u001b[39m\u001b[38;5;124m'\u001b[39m \u001b[38;5;241m+\u001b[39m \u001b[38;5;241m2\u001b[39m\n",
      "\u001b[0;31mTypeError\u001b[0m: can only concatenate str (not \"int\") to str"
     ]
    }
   ],
   "source": [
    "'1' + 2"
   ]
  },
  {
   "cell_type": "code",
   "execution_count": 13,
   "id": "f0f4c0c4",
   "metadata": {},
   "outputs": [
    {
     "data": {
      "text/plain": [
       "2"
      ]
     },
     "execution_count": 13,
     "metadata": {},
     "output_type": "execute_result"
    }
   ],
   "source": [
    "6 % 4"
   ]
  },
  {
   "cell_type": "code",
   "execution_count": 14,
   "id": "b03ecf8a",
   "metadata": {},
   "outputs": [
    {
     "data": {
      "text/plain": [
       "int"
      ]
     },
     "execution_count": 14,
     "metadata": {},
     "output_type": "execute_result"
    }
   ],
   "source": [
    "type(6 % 4)"
   ]
  },
  {
   "cell_type": "code",
   "execution_count": 15,
   "id": "d9af73b2",
   "metadata": {},
   "outputs": [
    {
     "data": {
      "text/plain": [
       "type"
      ]
     },
     "execution_count": 15,
     "metadata": {},
     "output_type": "execute_result"
    }
   ],
   "source": [
    "type(type(6 % 4))"
   ]
  },
  {
   "cell_type": "code",
   "execution_count": 16,
   "id": "89b2042e",
   "metadata": {},
   "outputs": [
    {
     "ename": "TypeError",
     "evalue": "can only concatenate str (not \"int\") to str",
     "output_type": "error",
     "traceback": [
      "\u001b[0;31m---------------------------------------------------------------------------\u001b[0m",
      "\u001b[0;31mTypeError\u001b[0m                                 Traceback (most recent call last)",
      "Cell \u001b[0;32mIn[16], line 1\u001b[0m\n\u001b[0;32m----> 1\u001b[0m \u001b[38;5;124m'\u001b[39m\u001b[38;5;124m3 + 4 is \u001b[39m\u001b[38;5;124m'\u001b[39m \u001b[38;5;241m+\u001b[39m \u001b[38;5;241m3\u001b[39m \u001b[38;5;241m+\u001b[39m \u001b[38;5;241m4\u001b[39m\n",
      "\u001b[0;31mTypeError\u001b[0m: can only concatenate str (not \"int\") to str"
     ]
    }
   ],
   "source": [
    "'3 + 4 is ' + 3 + 4"
   ]
  },
  {
   "cell_type": "code",
   "execution_count": 17,
   "id": "210ff6c1",
   "metadata": {},
   "outputs": [
    {
     "data": {
      "text/plain": [
       "False"
      ]
     },
     "execution_count": 17,
     "metadata": {},
     "output_type": "execute_result"
    }
   ],
   "source": [
    "0 < 0"
   ]
  },
  {
   "cell_type": "code",
   "execution_count": 18,
   "id": "e1ddf0a1",
   "metadata": {},
   "outputs": [
    {
     "data": {
      "text/plain": [
       "False"
      ]
     },
     "execution_count": 18,
     "metadata": {},
     "output_type": "execute_result"
    }
   ],
   "source": [
    "'False' == False"
   ]
  },
  {
   "cell_type": "code",
   "execution_count": null,
   "id": "d11f57e9",
   "metadata": {},
   "outputs": [],
   "source": []
  },
  {
   "cell_type": "code",
   "execution_count": 20,
   "id": "19dde4f2",
   "metadata": {},
   "outputs": [
    {
     "data": {
      "text/plain": [
       "False"
      ]
     },
     "execution_count": 20,
     "metadata": {},
     "output_type": "execute_result"
    }
   ],
   "source": [
    "True == 'True'"
   ]
  },
  {
   "cell_type": "code",
   "execution_count": 25,
   "id": "c41344b2",
   "metadata": {},
   "outputs": [
    {
     "data": {
      "text/plain": [
       "True"
      ]
     },
     "execution_count": 25,
     "metadata": {},
     "output_type": "execute_result"
    }
   ],
   "source": [
    "5 >= -5"
   ]
  },
  {
   "cell_type": "code",
   "execution_count": 26,
   "id": "8b688a4e",
   "metadata": {},
   "outputs": [
    {
     "data": {
      "text/plain": [
       "True"
      ]
     },
     "execution_count": 26,
     "metadata": {},
     "output_type": "execute_result"
    }
   ],
   "source": [
    "True or \"42\""
   ]
  },
  {
   "cell_type": "code",
   "execution_count": 21,
   "id": "127b2cf0",
   "metadata": {},
   "outputs": [
    {
     "data": {
      "text/plain": [
       "1"
      ]
     },
     "execution_count": 21,
     "metadata": {},
     "output_type": "execute_result"
    }
   ],
   "source": [
    "6 % 5"
   ]
  },
  {
   "cell_type": "code",
   "execution_count": 27,
   "id": "829de319",
   "metadata": {},
   "outputs": [
    {
     "data": {
      "text/plain": [
       "False"
      ]
     },
     "execution_count": 27,
     "metadata": {},
     "output_type": "execute_result"
    }
   ],
   "source": [
    "5 < 4 and 1 == 1"
   ]
  },
  {
   "cell_type": "code",
   "execution_count": 28,
   "id": "6162a28a",
   "metadata": {},
   "outputs": [
    {
     "data": {
      "text/plain": [
       "False"
      ]
     },
     "execution_count": 28,
     "metadata": {},
     "output_type": "execute_result"
    }
   ],
   "source": [
    "'codeup'== 'codeup' and 'codeup' == 'Codeup'"
   ]
  },
  {
   "cell_type": "code",
   "execution_count": 30,
   "id": "fc7c5ebe",
   "metadata": {},
   "outputs": [
    {
     "ename": "SyntaxError",
     "evalue": "invalid syntax (3416014612.py, line 1)",
     "output_type": "error",
     "traceback": [
      "\u001b[0;36m  Cell \u001b[0;32mIn[30], line 1\u001b[0;36m\u001b[0m\n\u001b[0;31m    4 <= 0 and 1 !== '1'\u001b[0m\n\u001b[0m                   ^\u001b[0m\n\u001b[0;31mSyntaxError\u001b[0m\u001b[0;31m:\u001b[0m invalid syntax\n"
     ]
    }
   ],
   "source": [
    "4 <= 0 and 1 !== '1'"
   ]
  },
  {
   "cell_type": "code",
   "execution_count": 24,
   "id": "c13810d1",
   "metadata": {},
   "outputs": [
    {
     "data": {
      "text/plain": [
       "True"
      ]
     },
     "execution_count": 24,
     "metadata": {},
     "output_type": "execute_result"
    }
   ],
   "source": [
    "6 % 3 == 0 "
   ]
  },
  {
   "cell_type": "code",
   "execution_count": 31,
   "id": "32f4d024",
   "metadata": {},
   "outputs": [
    {
     "data": {
      "text/plain": [
       "True"
      ]
     },
     "execution_count": 31,
     "metadata": {},
     "output_type": "execute_result"
    }
   ],
   "source": [
    "5 % 2 != 0"
   ]
  },
  {
   "cell_type": "code",
   "execution_count": 32,
   "id": "59404834",
   "metadata": {},
   "outputs": [
    {
     "ename": "TypeError",
     "evalue": "can only concatenate list (not \"int\") to list",
     "output_type": "error",
     "traceback": [
      "\u001b[0;31m---------------------------------------------------------------------------\u001b[0m",
      "\u001b[0;31mTypeError\u001b[0m                                 Traceback (most recent call last)",
      "Cell \u001b[0;32mIn[32], line 1\u001b[0m\n\u001b[0;32m----> 1\u001b[0m [\u001b[38;5;241m1\u001b[39m] \u001b[38;5;241m+\u001b[39m \u001b[38;5;241m2\u001b[39m\n",
      "\u001b[0;31mTypeError\u001b[0m: can only concatenate list (not \"int\") to list"
     ]
    }
   ],
   "source": [
    "[1] + 2"
   ]
  },
  {
   "cell_type": "code",
   "execution_count": 33,
   "id": "2a3bf48d",
   "metadata": {},
   "outputs": [
    {
     "data": {
      "text/plain": [
       "[1, 2]"
      ]
     },
     "execution_count": 33,
     "metadata": {},
     "output_type": "execute_result"
    }
   ],
   "source": [
    "[1] + [2]"
   ]
  },
  {
   "cell_type": "code",
   "execution_count": 34,
   "id": "d3e6caf2",
   "metadata": {},
   "outputs": [
    {
     "data": {
      "text/plain": [
       "[1, 1]"
      ]
     },
     "execution_count": 34,
     "metadata": {},
     "output_type": "execute_result"
    }
   ],
   "source": [
    "[1] * 2"
   ]
  },
  {
   "cell_type": "code",
   "execution_count": 36,
   "id": "e96efc3a",
   "metadata": {},
   "outputs": [
    {
     "ename": "TypeError",
     "evalue": "can't multiply sequence by non-int of type 'list'",
     "output_type": "error",
     "traceback": [
      "\u001b[0;31m---------------------------------------------------------------------------\u001b[0m",
      "\u001b[0;31mTypeError\u001b[0m                                 Traceback (most recent call last)",
      "Cell \u001b[0;32mIn[36], line 1\u001b[0m\n\u001b[0;32m----> 1\u001b[0m [\u001b[38;5;241m1\u001b[39m] \u001b[38;5;241m*\u001b[39m [\u001b[38;5;241m2\u001b[39m]\n",
      "\u001b[0;31mTypeError\u001b[0m: can't multiply sequence by non-int of type 'list'"
     ]
    }
   ],
   "source": [
    "[1] * [2]"
   ]
  },
  {
   "cell_type": "code",
   "execution_count": 38,
   "id": "11f60dd4",
   "metadata": {
    "scrolled": true
   },
   "outputs": [
    {
     "data": {
      "text/plain": [
       "True"
      ]
     },
     "execution_count": 38,
     "metadata": {},
     "output_type": "execute_result"
    }
   ],
   "source": [
    "[] + [] == []"
   ]
  },
  {
   "cell_type": "code",
   "execution_count": 39,
   "id": "4212971f",
   "metadata": {},
   "outputs": [
    {
     "ename": "TypeError",
     "evalue": "unsupported operand type(s) for +: 'dict' and 'dict'",
     "output_type": "error",
     "traceback": [
      "\u001b[0;31m---------------------------------------------------------------------------\u001b[0m",
      "\u001b[0;31mTypeError\u001b[0m                                 Traceback (most recent call last)",
      "Cell \u001b[0;32mIn[39], line 1\u001b[0m\n\u001b[0;32m----> 1\u001b[0m {} \u001b[38;5;241m+\u001b[39m {}\n",
      "\u001b[0;31mTypeError\u001b[0m: unsupported operand type(s) for +: 'dict' and 'dict'"
     ]
    }
   ],
   "source": [
    "{} + {}"
   ]
  },
  {
   "cell_type": "code",
   "execution_count": null,
   "id": "fb73e0c5",
   "metadata": {},
   "outputs": [],
   "source": [
    "# 4. You have rented some movies for your kids:\n",
    "\n",
    "     # The Little Mermaid for 3 days\n",
    "\n",
    "     # Brother Bear for 5 days\n",
    "\n",
    "     # Hercules for 1 day\n",
    "\n",
    "#If the daily fee to rent a movie is 3 dollars, how much will you have to pay?"
   ]
  },
  {
   "cell_type": "code",
   "execution_count": null,
   "id": "b50cc8ba",
   "metadata": {},
   "outputs": [],
   "source": []
  },
  {
   "cell_type": "code",
   "execution_count": 40,
   "id": "7e86e103",
   "metadata": {},
   "outputs": [],
   "source": [
    "x = 3"
   ]
  },
  {
   "cell_type": "code",
   "execution_count": 43,
   "id": "f2bdb42b",
   "metadata": {},
   "outputs": [
    {
     "data": {
      "text/plain": [
       "27"
      ]
     },
     "execution_count": 43,
     "metadata": {},
     "output_type": "execute_result"
    }
   ],
   "source": [
    "3*x + 5*x + x"
   ]
  },
  {
   "cell_type": "code",
   "execution_count": null,
   "id": "5cf92fd7",
   "metadata": {},
   "outputs": [],
   "source": [
    "# 5. Suppose you're working as a contractor for 3 companies: Google, Amazon and Facebook.\n",
    "\n",
    "'''' They pay you the following hourly rates:\n",
    "\n",
    "Google: 400 dollars\n",
    "Amazon: 380 dollars\n",
    "Facebook: 350 dollars\n",
    "This week you worked: 10 hours for Facebook, 6 hours for Google, and 4 hours for Amazon.\n",
    "\n",
    "How much will you receive in payment for this week? ''''''"
   ]
  },
  {
   "cell_type": "code",
   "execution_count": 44,
   "id": "3988b4d6",
   "metadata": {},
   "outputs": [],
   "source": [
    "x = 400"
   ]
  },
  {
   "cell_type": "code",
   "execution_count": 45,
   "id": "21e6461e",
   "metadata": {},
   "outputs": [],
   "source": [
    "y = 380"
   ]
  },
  {
   "cell_type": "code",
   "execution_count": 46,
   "id": "5c2bc45a",
   "metadata": {},
   "outputs": [],
   "source": [
    "z = 350"
   ]
  },
  {
   "cell_type": "code",
   "execution_count": 47,
   "id": "79c88abf",
   "metadata": {},
   "outputs": [
    {
     "data": {
      "text/plain": [
       "7420"
      ]
     },
     "execution_count": 47,
     "metadata": {},
     "output_type": "execute_result"
    }
   ],
   "source": [
    "10*z + 6*x + 4*y"
   ]
  },
  {
   "cell_type": "code",
   "execution_count": null,
   "id": "13f966d5",
   "metadata": {},
   "outputs": [],
   "source": [
    "# 6. A student can be enrolled in a class only if the class is not full and the class schedule does not conflict with her current schedule."
   ]
  },
  {
   "cell_type": "code",
   "execution_count": 65,
   "id": "14af1226",
   "metadata": {},
   "outputs": [],
   "source": [
    "no_enrollment = False"
   ]
  },
  {
   "cell_type": "code",
   "execution_count": 66,
   "id": "3f1e14c9",
   "metadata": {},
   "outputs": [],
   "source": [
    "current_schedule =  True"
   ]
  },
  {
   "cell_type": "code",
   "execution_count": 60,
   "id": "2fb66fa4",
   "metadata": {},
   "outputs": [],
   "source": [
    "enrollment = True"
   ]
  },
  {
   "cell_type": "code",
   "execution_count": 71,
   "id": "35416df7",
   "metadata": {},
   "outputs": [],
   "source": [
    "class_not_full = True"
   ]
  },
  {
   "cell_type": "code",
   "execution_count": 72,
   "id": "8c51c1f6",
   "metadata": {},
   "outputs": [
    {
     "data": {
      "text/plain": [
       "True"
      ]
     },
     "execution_count": 72,
     "metadata": {},
     "output_type": "execute_result"
    }
   ],
   "source": [
    "current_schedule and class_not_full "
   ]
  },
  {
   "cell_type": "code",
   "execution_count": null,
   "id": "2d77bf63",
   "metadata": {},
   "outputs": [],
   "source": [
    "# A product offer can be applied only if a customer buys more than 2 items, and the offer has not expired. Premium members do not need to buy a specific amount of products."
   ]
  },
  {
   "cell_type": "code",
   "execution_count": 73,
   "id": "8e1ca72b",
   "metadata": {},
   "outputs": [],
   "source": [
    "item = True"
   ]
  },
  {
   "cell_type": "code",
   "execution_count": 74,
   "id": "5db32a87",
   "metadata": {},
   "outputs": [],
   "source": [
    "premium_member = True"
   ]
  },
  {
   "cell_type": "code",
   "execution_count": 75,
   "id": "43975e69",
   "metadata": {},
   "outputs": [
    {
     "data": {
      "text/plain": [
       "True"
      ]
     },
     "execution_count": 75,
     "metadata": {},
     "output_type": "execute_result"
    }
   ],
   "source": [
    "item and premium_member"
   ]
  },
  {
   "cell_type": "code",
   "execution_count": 78,
   "id": "80d5d13d",
   "metadata": {},
   "outputs": [],
   "source": [
    "two_item = True"
   ]
  },
  {
   "cell_type": "code",
   "execution_count": 79,
   "id": "bda7b1f8",
   "metadata": {},
   "outputs": [],
   "source": [
    "product_offer_expired = False"
   ]
  },
  {
   "cell_type": "code",
   "execution_count": 82,
   "id": "2d50ddd4",
   "metadata": {},
   "outputs": [
    {
     "data": {
      "text/plain": [
       "False"
      ]
     },
     "execution_count": 82,
     "metadata": {},
     "output_type": "execute_result"
    }
   ],
   "source": [
    "premium_member and product_offer_expired"
   ]
  },
  {
   "cell_type": "code",
   "execution_count": null,
   "id": "f8139abd",
   "metadata": {},
   "outputs": [],
   "source": [
    "# 8. Use the following code to follow the instructions below:\n",
    "\n",
    "\n",
    "''''username = 'codeup'\n",
    "    password = 'notastrongpassword'\n",
    "Create a variable that holds a boolean value for each of the following conditions:\n",
    "\n",
    "   The password must be at least 5 characters\n",
    "   The username must be no more than 20 characters\n",
    "   The password must not be the same as the username\n",
    "   Bonus Neither the username or password can start nor end with whitespace''''"
   ]
  },
  {
   "cell_type": "code",
   "execution_count": null,
   "id": "6f17c6a1",
   "metadata": {
    "collapsed": true
   },
   "outputs": [],
   "source": []
  },
  {
   "cell_type": "code",
   "execution_count": 89,
   "id": "495f23fa",
   "metadata": {},
   "outputs": [],
   "source": [
    "username = 'codeup'\n",
    "password = 'notastrongpassword'"
   ]
  },
  {
   "cell_type": "code",
   "execution_count": 91,
   "id": "4c3a4735",
   "metadata": {},
   "outputs": [
    {
     "data": {
      "text/plain": [
       "True"
      ]
     },
     "execution_count": 91,
     "metadata": {},
     "output_type": "execute_result"
    }
   ],
   "source": [
    "password_len = len(password) >= 5\n",
    "password_len"
   ]
  },
  {
   "cell_type": "code",
   "execution_count": 92,
   "id": "1704fc90",
   "metadata": {},
   "outputs": [
    {
     "data": {
      "text/plain": [
       "True"
      ]
     },
     "execution_count": 92,
     "metadata": {},
     "output_type": "execute_result"
    }
   ],
   "source": [
    "username_len = len(username) <= 20\n",
    "username_len"
   ]
  },
  {
   "cell_type": "code",
   "execution_count": 97,
   "id": "c87c5a4d",
   "metadata": {},
   "outputs": [
    {
     "data": {
      "text/plain": [
       "True"
      ]
     },
     "execution_count": 97,
     "metadata": {},
     "output_type": "execute_result"
    }
   ],
   "source": [
    "unique_creds = password != username\n",
    "unique_creds"
   ]
  },
  {
   "cell_type": "code",
   "execution_count": 98,
   "id": "539233fe",
   "metadata": {},
   "outputs": [
    {
     "data": {
      "text/plain": [
       "True"
      ]
     },
     "execution_count": 98,
     "metadata": {},
     "output_type": "execute_result"
    }
   ],
   "source": [
    "password_len and username_len and unique_creds"
   ]
  },
  {
   "cell_type": "code",
   "execution_count": 100,
   "id": "52b33c8b",
   "metadata": {},
   "outputs": [
    {
     "data": {
      "text/plain": [
       "True"
      ]
     },
     "execution_count": 100,
     "metadata": {},
     "output_type": "execute_result"
    }
   ],
   "source": [
    "password_len"
   ]
  },
  {
   "cell_type": "code",
   "execution_count": null,
   "id": "33fbde61",
   "metadata": {},
   "outputs": [],
   "source": []
  }
 ],
 "metadata": {
  "kernelspec": {
   "display_name": "Python 3 (ipykernel)",
   "language": "python",
   "name": "python3"
  },
  "language_info": {
   "codemirror_mode": {
    "name": "ipython",
    "version": 3
   },
   "file_extension": ".py",
   "mimetype": "text/x-python",
   "name": "python",
   "nbconvert_exporter": "python",
   "pygments_lexer": "ipython3",
   "version": "3.11.5"
  }
 },
 "nbformat": 4,
 "nbformat_minor": 5
}
