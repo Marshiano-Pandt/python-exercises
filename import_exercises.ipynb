{
 "cells": [
  {
   "cell_type": "code",
   "execution_count": 12,
   "id": "bc24134d-bde8-45c1-98b5-c8c685af50ee",
   "metadata": {
    "tags": []
   },
   "outputs": [
    {
     "data": {
      "text/plain": [
       "True"
      ]
     },
     "execution_count": 12,
     "metadata": {},
     "output_type": "execute_result"
    }
   ],
   "source": [
    "import function_exercises\n",
    "\n",
    "\n",
    "# Import and test 3 of the functions from your functions exercise file. \n",
    "# Import each function in a different way:\n",
    "\n",
    "# Run an interactive python session and import the module. \n",
    "# Call the is_vowel function using the . syntax.\n",
    "\n",
    "# Create a file named import_exercises.py. Within this file, use from to import the \n",
    "# calculate_tip function directly. Call this function with values you choose \n",
    "# and print the result.\n",
    "\n",
    "# Create a jupyter notebook named import_exercises.ipynb. \n",
    "# Use from to import the get_letter_grade function and give it an alias. \n",
    "# Test this function in your notebook.\n",
    "\n",
    "\n",
    "function_exercises.is_vowel(\"a\")\n"
   ]
  },
  {
   "cell_type": "code",
   "execution_count": 13,
   "id": "8af1336d-3349-4c43-aa76-dc9eb911908a",
   "metadata": {
    "tags": []
   },
   "outputs": [],
   "source": [
    "from function_exercises import calculate_tip"
   ]
  },
  {
   "cell_type": "code",
   "execution_count": 14,
   "id": "9d80fb2d-7d01-47db-a433-8641527e088c",
   "metadata": {
    "tags": []
   },
   "outputs": [
    {
     "data": {
      "text/plain": [
       "13.5"
      ]
     },
     "execution_count": 14,
     "metadata": {},
     "output_type": "execute_result"
    }
   ],
   "source": [
    "calculate_tip(.27, 50)"
   ]
  },
  {
   "cell_type": "code",
   "execution_count": 19,
   "id": "cb88fbe8-557e-4915-bc38-8bf9a4e9327d",
   "metadata": {
    "tags": []
   },
   "outputs": [],
   "source": [
    "from function_exercises import get_letter_grade as grade"
   ]
  },
  {
   "cell_type": "code",
   "execution_count": 20,
   "id": "51af2a25-afc8-473a-8625-880bbb0fa88a",
   "metadata": {
    "tags": []
   },
   "outputs": [
    {
     "name": "stdout",
     "output_type": "stream",
     "text": [
      "C\n"
     ]
    }
   ],
   "source": [
    "grade(79)"
   ]
  },
  {
   "cell_type": "code",
   "execution_count": null,
   "id": "9cf21b44-bd65-4d5e-ae47-ed6aace541a4",
   "metadata": {},
   "outputs": [],
   "source": [
    "# Read about and use the itertools module from the python standard library to help\n",
    "# you solve the following problems. Note: Many of these functions in this library \n",
    "# return an object, to see the results of the function, cast this object as a list.\n",
    "\n",
    "# How many different ways can you combine a single letter from \"abc\" with either\n",
    "# 1, 2, or 3?\n",
    "# How many different combinations are there of 2 letters from \"abcd\"?\n",
    "# How many different permutations are there of 2 letters from \"abcd\"?"
   ]
  },
  {
   "cell_type": "code",
   "execution_count": 25,
   "id": "a3c4a431-b296-4eec-b2bb-375b6a98b78e",
   "metadata": {
    "tags": []
   },
   "outputs": [
    {
     "name": "stdout",
     "output_type": "stream",
     "text": [
      "[('a', 1), ('a', 2), ('a', 3), ('b', 1), ('b', 2), ('b', 3), ('c', 1), ('c', 2), ('c', 3)]\n",
      "Total combination: 9\n"
     ]
    }
   ],
   "source": [
    "import itertools\n",
    "\n",
    "letters_abc = \"abc\"\n",
    "\n",
    "numbers_123 = [1,2,3]\n",
    "\n",
    "combinations = list(itertools.product(letters, numbers))\n",
    "\n",
    "print(combinations)\n",
    "print(\"Total combination:\", len(combinations))\n"
   ]
  },
  {
   "cell_type": "code",
   "execution_count": 34,
   "id": "b3344a32-fdab-43ac-b9cb-d2627ece3246",
   "metadata": {
    "tags": []
   },
   "outputs": [
    {
     "name": "stdout",
     "output_type": "stream",
     "text": [
      "[('a', 'b'), ('a', 'c'), ('a', 'd'), ('b', 'c'), ('b', 'd'), ('c', 'd')]\n",
      "Total combination: 6\n"
     ]
    }
   ],
   "source": [
    "import itertools\n",
    "\n",
    "letters_abcd = \"abcd\"\n",
    "\n",
    "\n",
    "\n",
    "combinations_2 = list(itertools.combinations(letters_abcd, 2 ))\n",
    "\n",
    "print(combinations_2)\n",
    "print(\"Total combination:\", len(combinations_2))"
   ]
  },
  {
   "cell_type": "code",
   "execution_count": 37,
   "id": "ec2cdacd-091a-420f-826d-024e6996eeee",
   "metadata": {
    "tags": []
   },
   "outputs": [
    {
     "name": "stdout",
     "output_type": "stream",
     "text": [
      "[('a', 'b'), ('a', 'c'), ('a', 'd'), ('b', 'a'), ('b', 'c'), ('b', 'd'), ('c', 'a'), ('c', 'b'), ('c', 'd'), ('d', 'a'), ('d', 'b'), ('d', 'c')]\n",
      "Total permutations: 12\n"
     ]
    }
   ],
   "source": [
    "import itertools\n",
    "\n",
    "letters_abcd = \"abcd\"\n",
    "\n",
    "\n",
    "\n",
    "permutations = list(itertools.permutations(letters_abcd, 2 ))\n",
    "\n",
    "print(permutations)\n",
    "print(\"Total permutations:\", len(permutations))"
   ]
  },
  {
   "cell_type": "markdown",
   "id": "6e925966-9ef8-4b08-b90c-7c8423a5ebb8",
   "metadata": {},
   "source": [
    "Save this file as profiles.json inside of your exercises directory (right click -> save file as...).\n",
    "\n",
    "Use the load function from the json module to open this file.\n",
    "\n",
    "\n",
    "import json\n",
    "\n",
    "json.load(open('profiles.json'))\n",
    "Your code should produce a list of dictionaries. Using this data, write some code that calculates and outputs the following information:\n",
    "\n",
    "Total number of users\n",
    "Number of active users\n",
    "Number of inactive users\n",
    "Grand total of balances for all users\n",
    "Average balance per user\n",
    "User with the lowest balance\n",
    "User with the highest balance\n",
    "Most common favorite fruit\n",
    "Least most common favorite fruit\n",
    "Total number of unread messages for all users\n"
   ]
  },
  {
   "cell_type": "code",
   "execution_count": 28,
   "id": "fcc939bc-dccf-4c86-8113-2d2c1a842a35",
   "metadata": {
    "tags": []
   },
   "outputs": [
    {
     "name": "stdout",
     "output_type": "stream",
     "text": [
      "Total number of users: 19\n",
      "Number of active users: 9\n",
      "Number of inactive users: 10\n",
      "Grand total of balances for all users: $ 52667.02\n",
      "Average balance per user: $ 2771.9484210526316\n",
      "User with the lowest balance: Avery Flynn\n",
      "User with the highest balance: Fay Hammond\n",
      "Most common favorite fruit: strawberry\n",
      "Least common favorite fruit: banana\n",
      "Total number of unread messages for all users: 210\n",
      "\n",
      "\n",
      "Total unique tags for all users: 52\n",
      "User: Hebert Estes\n",
      "Friends: Tanisha Leonard, Dennis Wilson, Lupe Howe\n",
      "\n",
      "\n",
      "User: Allison Wynn\n",
      "Friends: Curry Cox, Alma Dale, Barbara Mayo\n",
      "\n",
      "\n",
      "User: Jacobs Floyd\n",
      "Friends: Robles Chan, Whitfield Strickland, Lina Melton\n",
      "\n",
      "\n",
      "User: Fay Hammond\n",
      "Friends: Dudley Booker, Esmeralda Tyler, Rosa Hampton\n",
      "\n",
      "\n",
      "User: Chasity Marsh\n",
      "Friends: Kristina Glover, Ora Christian, Jacklyn Joseph\n",
      "\n",
      "\n",
      "User: Camacho Cortez\n",
      "Friends: Sexton Tillman, Boone Steele, Elvia Ward\n",
      "\n",
      "\n",
      "User: Avery Flynn\n",
      "Friends: Ball Henson, Dalton Mccoy, Carolina Sharp\n",
      "\n",
      "\n",
      "User: Michael Cash\n",
      "Friends: Rodgers Nolan, Jewel Marks, Sue Mejia\n",
      "\n",
      "\n",
      "User: Madeleine Bray\n",
      "Friends: Herrera Doyle, Berger Fisher, Chang Coffey\n",
      "\n",
      "\n",
      "User: Corine French\n",
      "Friends: Greta Hill, Cline Curry, Branch Sawyer\n",
      "\n",
      "\n",
      "User: Trudy Cummings\n",
      "Friends: Amber Gates, Barron Walsh, Nell Bolton\n",
      "\n",
      "\n",
      "User: Peggy Mayer\n",
      "Friends: Hopkins Mccall, Nielsen Weeks, Dale Knowles\n",
      "\n",
      "\n",
      "User: Chan Hurley\n",
      "Friends: Reese Grant, Jenna Kinney, Rhea May\n",
      "\n",
      "\n",
      "User: Diaz Pena\n",
      "Friends: Mcmillan Knox, Flossie Dixon, Sears Carson\n",
      "\n",
      "\n",
      "User: Heath Castaneda\n",
      "Friends: Dora Mack, Christensen Camacho, Castro Kelly\n",
      "\n",
      "\n",
      "User: Greer Blankenship\n",
      "Friends: Woods Norman, Marilyn Haney, Webster Nielsen\n",
      "\n",
      "\n",
      "User: Coffey Hayes\n",
      "Friends: Suarez Perry, Marlene Sheppard, Cohen Yates\n",
      "\n",
      "\n",
      "User: Leanne Hurst\n",
      "Friends: Farley Frank, Pruitt Frye, Simpson Cardenas\n",
      "\n",
      "\n",
      "User: Ewing Larson\n",
      "Friends: Suzette Huffman, Paige Santiago, Dollie Fernandez\n",
      "\n",
      "\n"
     ]
    }
   ],
   "source": [
    "import json\n",
    "\n",
    "# Load the JSON data from 'profiles.json'\n",
    "\n",
    "          \n",
    "with open('profiles.json', 'r') as file:\n",
    "          data = json.load(file)\n",
    "          \n",
    "# Total number of users\n",
    "total_users = len(data)\n",
    "          \n",
    "# Number of active users          \n",
    "active_users = len([user for user in data if user['isActive']])\n",
    "          \n",
    "# Number of inactive users          \n",
    "inactive_users = total_users - active_users\n",
    "  \n",
    "# Convert balance strings to floats and calculate the grand total of balances\n",
    "balances = [float(user['balance'].replace('$', '').replace( ',', '')) for user in data]\n",
    "total_balance = sum(balances)\n",
    "                                          \n",
    "# Average balance per user\n",
    "average_balance = total_balance / total_users\n",
    "                                          \n",
    "# Find the users with the lowest balance, lambda function is being used to extract the balance and clean it.                                          \n",
    "lowest_balance_user = min(data, key=lambda x:float(x['balance'].replace('$', '').replace(',', ''))) \n",
    "                                          \n",
    "# Find the users with the highest balance\n",
    "highest_balance_user = max(data, key=lambda x:float(x['balance'].replace('$', '').replace(',', '')))     \n",
    "   \n",
    "# the code being used when lambda is being ran.                                           \n",
    "'''def extract_balance(user):\n",
    "# Extract the 'balance' field from the user's dictionary    \n",
    "        balance_str = user['balance']\n",
    "# Remove the dollar sign and commas, and convert to a floating-point number\n",
    "        balance_float = float(balance_str.replace('$', '').replace(',', ''))\n",
    "                                          \n",
    "        return balance_float\n",
    "\n",
    "    lowest_balance_user = min(data, key=extract_balance)'''\n",
    "                                          \n",
    "fruit_counts = {}\n",
    "\n",
    "for user in data:\n",
    "    favorite_fruit = user['favoriteFruit']  \n",
    "    if favorite_fruit in fruit_counts:\n",
    "        fruit_counts[favorite_fruit] += 1\n",
    "    else:\n",
    "        fruit_counts[favorite_fruit] = 1\n",
    "                                          \n",
    "        \n",
    "# Find the most common fruits\n",
    "most_common_fruit = max(fruit_counts, key = fruit_counts.get)\n",
    "\n",
    "# Find the least common fruits\n",
    "least_common_fruit = min(fruit_counts, key = fruit_counts.get)\n",
    "\n",
    "                                          \n",
    "total_unread_messages = 0 \n",
    "\n",
    "\n",
    "for user in data:\n",
    "    # Extracting the 'greeting' field from the file \n",
    "    greeting = user[\"greeting\"]\n",
    "   \n",
    "    # Split the 'greeting' in to unread messages\n",
    "    parts = greeting.split()\n",
    "    # print(parts)\n",
    "    \n",
    "    # Ensure that there are enough parts and that the last part can be converted to an integer\n",
    "    if len(parts) >= 3:\n",
    "        last_part = parts[-3]\n",
    "        # print(last_part)\n",
    "        if last_part.isdigit():\n",
    "            \n",
    "            unread_messages = int(last_part)\n",
    "           \n",
    "            # Accumulate the unread message count\n",
    "            total_unread_messages += unread_messages\n",
    "    \n",
    "    \n",
    "print(\"Total number of users:\", total_users)\n",
    "print(\"Number of active users:\", active_users)\n",
    "print(\"Number of inactive users:\", inactive_users)\n",
    "print(\"Grand total of balances for all users: $\", total_balance)\n",
    "print(\"Average balance per user: $\", average_balance)\n",
    "print(\"User with the lowest balance:\", lowest_balance_user['name'])\n",
    "print(\"User with the highest balance:\", highest_balance_user['name'])\n",
    "print(\"Most common favorite fruit:\", most_common_fruit)\n",
    "print(\"Least common favorite fruit:\", least_common_fruit)\n",
    "print(\"Total number of unread messages for all users:\", total_unread_messages)    \n",
    "print(\"\\n\")   \n",
    "\n",
    "# Initialize a set to store unique tags    \n",
    "unique_tags = set()\n",
    "\n",
    "# Iterate through each user's profile\n",
    "for user in data:\n",
    "    \n",
    "    # Extract tags for the current user\n",
    "    tags = user['tags']\n",
    "    # print(tags)\n",
    "    \n",
    "    # Add the tags to the set to keep track of unique tags\n",
    "    unique_tags.update(tags)\n",
    "    # print(unique_tags)\n",
    "    \n",
    "# Print the total number of unique tags    \n",
    "print(\"Total unique tags for all users:\", len(unique_tags))\n",
    "\n",
    "\n",
    "# Display a user's name and all of their respective friends\n",
    "\n",
    "for user in data:\n",
    "    print(\"User:\", user['name'])\n",
    "    print(\"Friends:\", \", \".join(friend['name'] for friend in user['friends']))\n",
    "    print(\"\\n\")\n",
    "\n",
    "\n",
    "\n",
    "    "
   ]
  },
  {
   "cell_type": "code",
   "execution_count": null,
   "id": "30fa757f-9bde-445f-9ff4-b917617663fc",
   "metadata": {},
   "outputs": [],
   "source": []
  },
  {
   "cell_type": "code",
   "execution_count": 10,
   "id": "efb53688-3e5a-45d2-b257-3f7f7df6e6d1",
   "metadata": {},
   "outputs": [
    {
     "data": {
      "text/plain": [
       "list"
      ]
     },
     "execution_count": 10,
     "metadata": {},
     "output_type": "execute_result"
    }
   ],
   "source": [
    "type(data)"
   ]
  },
  {
   "cell_type": "code",
   "execution_count": null,
   "id": "c47b8736-7dd1-4eba-9cf1-68b31fd74354",
   "metadata": {},
   "outputs": [],
   "source": []
  },
  {
   "cell_type": "code",
   "execution_count": null,
   "id": "26ea5f00-a519-45d7-be24-a8eaffe9e518",
   "metadata": {},
   "outputs": [],
   "source": []
  },
  {
   "cell_type": "code",
   "execution_count": null,
   "id": "386d2f5f-d0ae-43fb-a09f-fe5552c4419b",
   "metadata": {},
   "outputs": [],
   "source": []
  }
 ],
 "metadata": {
  "kernelspec": {
   "display_name": "Python 3 (ipykernel)",
   "language": "python",
   "name": "python3"
  },
  "language_info": {
   "codemirror_mode": {
    "name": "ipython",
    "version": 3
   },
   "file_extension": ".py",
   "mimetype": "text/x-python",
   "name": "python",
   "nbconvert_exporter": "python",
   "pygments_lexer": "ipython3",
   "version": "3.11.5"
  }
 },
 "nbformat": 4,
 "nbformat_minor": 5
}
