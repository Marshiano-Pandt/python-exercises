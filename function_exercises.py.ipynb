{
 "cells": [
  {
   "cell_type": "code",
   "execution_count": 87,
   "id": "7efceb4e",
   "metadata": {},
   "outputs": [
    {
     "data": {
      "text/plain": [
       "True"
      ]
     },
     "execution_count": 87,
     "metadata": {},
     "output_type": "execute_result"
    }
   ],
   "source": [
    "# 1. Define a function named is_two. \n",
    "# It should accept one input and return True if the passed input is either the number \n",
    "# or the string 2, False otherwise.\n",
    "\n",
    "\n",
    "def is_two(n):\n",
    "    if n == (2) or n == ('2'):\n",
    "        return True\n",
    "    \n",
    "    \n",
    "    else:\n",
    "        return False\n",
    "    \n",
    "\n",
    "is_two(2)\n",
    "\n",
    "is_two('2')\n",
    "    "
   ]
  },
  {
   "cell_type": "code",
   "execution_count": 95,
   "id": "31a7a149",
   "metadata": {},
   "outputs": [
    {
     "data": {
      "text/plain": [
       "False"
      ]
     },
     "execution_count": 95,
     "metadata": {},
     "output_type": "execute_result"
    }
   ],
   "source": [
    "# 2. Define a function named is_vowel. It should return True if the passed string is a vowel, \n",
    "# False otherwise.\n",
    "\n",
    "vowels = \"aeiouAEIOU\"\n",
    "\n",
    "def is_vowel(value):\n",
    "#     vowels = \"aeiouAEIOU\"\n",
    "    \n",
    "    if value in vowels:\n",
    "        return len(value) == 1 and value in vowels\n",
    "    else:\n",
    "        return False\n",
    "    \n",
    "is_vowel('a')\n",
    "is_vowel('ae')\n"
   ]
  },
  {
   "cell_type": "code",
   "execution_count": 108,
   "id": "060c7259",
   "metadata": {},
   "outputs": [
    {
     "data": {
      "text/plain": [
       "False"
      ]
     },
     "execution_count": 108,
     "metadata": {},
     "output_type": "execute_result"
    }
   ],
   "source": [
    "# 3. Define a function named is_consonant. \n",
    "# It should return True if the passed string is a consonant, False otherwise. \n",
    "# Use your is_vowel function to accomplish this.\n",
    "\n",
    "\n",
    "def is_consonant(value):\n",
    "    if value not in vowels:\n",
    "        return len(value) == 1 and not is_vowel(value)\n",
    "    else:\n",
    "        return False\n",
    "    \n",
    "is_consonant('c')\n",
    "is_consonant('ab')\n",
    "is_consonant('bc')"
   ]
  },
  {
   "cell_type": "code",
   "execution_count": 43,
   "id": "ac65b697",
   "metadata": {},
   "outputs": [
    {
     "data": {
      "text/plain": [
       "'Sayonara!'"
      ]
     },
     "execution_count": 43,
     "metadata": {},
     "output_type": "execute_result"
    }
   ],
   "source": [
    "# 4. Define a function that accepts a string that is a word.\n",
    "# The function should capitalize the first letter of the word if the word starts with a \n",
    "# consonant.\n",
    "\n",
    "def saygoodbye(farewell = 'Sayonara'):\n",
    "    return '{}!'.format(farewell)\n",
    "\n",
    "saygoodbye()\n",
    "\n"
   ]
  },
  {
   "cell_type": "code",
   "execution_count": 44,
   "id": "0fd9561c",
   "metadata": {},
   "outputs": [
    {
     "data": {
      "text/plain": [
       "4.2555"
      ]
     },
     "execution_count": 44,
     "metadata": {},
     "output_type": "execute_result"
    }
   ],
   "source": [
    "# 5. Define a function named calculate_tip. It should accept a tip percentage \n",
    "# (a number between 0 and 1) and the bill total, and return the amount to tip.\n",
    "\n",
    "def calculate_tip(tip_percentage, bill_total):\n",
    "    if 0 <= tip_percentage <= 1:\n",
    "        tip_amount = tip_percentage * bill_total\n",
    "        return tip_amount\n",
    "    else:\n",
    "        return print(\"Tip percentage must be between 0 and 1 \")\n",
    "    \n",
    "calculate_tip(.15, 28.37)\n",
    "    \n"
   ]
  },
  {
   "cell_type": "code",
   "execution_count": 45,
   "id": "79ea3f26",
   "metadata": {},
   "outputs": [
    {
     "data": {
      "text/plain": [
       "446.09999999999997"
      ]
     },
     "execution_count": 45,
     "metadata": {},
     "output_type": "execute_result"
    }
   ],
   "source": [
    "# 6. Define a function named apply_discount.\n",
    "# It should accept a original price, and a discount percentage, and return the price after\n",
    "# the discount is applied.\n",
    "\n",
    "\n",
    "def apply_discount(discount_percentage, original_price):\n",
    "    if 0 <= discount_percentage <= 1:\n",
    "        new_price = discount_percentage * original_price\n",
    "        return new_price\n",
    "    else:\n",
    "        return print(\"Discount percentage must be between 0 and 1\")\n",
    "    \n",
    "apply_discount(.30, 1487)"
   ]
  },
  {
   "cell_type": "code",
   "execution_count": 68,
   "id": "39c6cf2e",
   "metadata": {},
   "outputs": [
    {
     "data": {
      "text/plain": [
       "10000000"
      ]
     },
     "execution_count": 68,
     "metadata": {},
     "output_type": "execute_result"
    }
   ],
   "source": [
    "# 7. Define a function named handle_commas. \n",
    "# It should accept a string that is a number that contains commas in it as input, \n",
    "# and return a number as output.\n",
    "\n",
    "\n",
    "\n",
    "def handle_commas(number_with_commas):\n",
    "    \n",
    "        return int(number_with_commas.replace(',', ''))\n",
    "   \n",
    "    \n",
    "    \n",
    "handle_commas(\"10,000,000\")\n",
    "    "
   ]
  },
  {
   "cell_type": "code",
   "execution_count": 66,
   "id": "8bcab5f6",
   "metadata": {},
   "outputs": [
    {
     "name": "stdout",
     "output_type": "stream",
     "text": [
      "10000\n"
     ]
    }
   ],
   "source": [
    "number_with_commas = \"10,000\"\n",
    "print(number_with_commas.replace(',', ''))"
   ]
  },
  {
   "cell_type": "code",
   "execution_count": 55,
   "id": "68f7ebd6",
   "metadata": {},
   "outputs": [
    {
     "name": "stdout",
     "output_type": "stream",
     "text": [
      "C\n"
     ]
    }
   ],
   "source": [
    "# 8. Define a function named get_letter_grade. \n",
    "# It should accept a number and return the letter grade associated with that number (A-F).\n",
    "\n",
    "\n",
    "def get_letter_grade(num_grade):\n",
    "    if 88 <= num_grade <= 100:\n",
    "        return print(\"A\")\n",
    "    elif 80 <= num_grade <= 87:\n",
    "        return print(\"B\")\n",
    "    elif 67 <= num_grade <= 79:\n",
    "        return print(\"C\")\n",
    "    elif 60 <= num_grade <= 66:\n",
    "        return print(\"D\")\n",
    "    elif 0 <= num_grade <= 59:\n",
    "        return print(\"F\")\n",
    "    else:\n",
    "        print(\"Invalid input. Please enter a numerical grade between 0 and 100. \")\n",
    "        \n",
    "get_letter_grade(75)"
   ]
  },
  {
   "cell_type": "code",
   "execution_count": 65,
   "id": "1b63f413",
   "metadata": {},
   "outputs": [
    {
     "data": {
      "text/plain": [
       "'ql'"
      ]
     },
     "execution_count": 65,
     "metadata": {},
     "output_type": "execute_result"
    }
   ],
   "source": [
    "# 9. Define a function named remove_vowels that accepts a string and returns a string with \n",
    "# all the vowels removed.\n",
    "\n",
    "\n",
    "\n",
    "def remove_vowels(value):\n",
    "    vowels = \"aeiouAEIOU\"    \n",
    "    result = (\"\")\n",
    "    \n",
    "    for char in value:\n",
    "        if char not in vowels:\n",
    "            result += char\n",
    "    return result\n",
    "\n",
    "remove_vowels(\"equal\")\n",
    "        "
   ]
  },
  {
   "cell_type": "code",
   "execution_count": null,
   "id": "5b68acaa",
   "metadata": {},
   "outputs": [],
   "source": [
    "# Define a function named normalize_name. It should accept a string and return a valid\n",
    "# python identifier, that is:\n",
    "# anything that is not a valid python identifier should be removed\n",
    "# leading and trailing whitespace should be removed\n",
    "# everything should be lowercase\n",
    "# spaces should be replaced with underscores\n",
    "# for example:\n",
    "# Name will become name\n",
    "# First Name will become first_name\n",
    "# % Completed will become completed\n",
    "\n",
    "def normalize_name(somestr):\n",
    "    # empty string to concatenate to\n",
    "    new_string = ''\n",
    "    \n",
    "    # strip whitespace first else problems and lower case string as asked\n",
    "    somestr = somestr.strip().lower()\n",
    "    \n",
    "    \n",
    "\n",
    "    # loop over passed string and add letters and spaces but not numbers\n",
    "    for char in somestr:\n",
    "        if char.isalpha() or char == ' ':\n",
    "\n",
    "                 new_string+= char # now need to strip any white space characters again in return if num remove\n",
    "    \n",
    "    \n",
    "    return new_string.strip().replace(' ', '_') \n"
   ]
  },
  {
   "cell_type": "code",
   "execution_count": null,
   "id": "999ee335",
   "metadata": {},
   "outputs": [],
   "source": [
    "# Write a function named cumulative_sum that accepts a list of numbers and returns a list \n",
    "# that is the cumulative sum of the numbers in the list.\n",
    "# cumulative_sum([1, 1, 1]) returns [1, 2, 3]\n",
    "# cumulative_sum([1, 2, 3, 4]) returns [1, 3, 6, 10]\n",
    "\n",
    "def cumulative_sum(oldlist):\n",
    "    \n",
    "    newlist=[]\n",
    "    \n",
    "    #intialize a variable to store the cumulative sum\n",
    "    c_sum = 0\n",
    "    \n",
    "    for num in oldlist:\n",
    "        #add the current number to the cumulative sum\n",
    "        c_sum += num\n",
    "        #print(f\"cumulative: {c_sum}\")\n",
    "        #append the cumulative sum to the newlist\n",
    "        newlist.append(c_sum)\n",
    "    print(f'oldlist: {oldlist}')\n",
    "    print(f\"newlist: {newlist}\")"
   ]
  },
  {
   "cell_type": "code",
   "execution_count": 82,
   "id": "14579be0",
   "metadata": {},
   "outputs": [
    {
     "data": {
      "text/plain": [
       "'yes'"
      ]
     },
     "execution_count": 82,
     "metadata": {},
     "output_type": "execute_result"
    }
   ],
   "source": [
    "results = \"\"\n",
    "\n",
    "for letter in 'yes23':\n",
    "    if letter.isalpha(): # if letter is alphanumeric then append else skip\n",
    "        results += letter\n",
    "results"
   ]
  }
 ],
 "metadata": {
  "kernelspec": {
   "display_name": "Python 3 (ipykernel)",
   "language": "python",
   "name": "python3"
  },
  "language_info": {
   "codemirror_mode": {
    "name": "ipython",
    "version": 3
   },
   "file_extension": ".py",
   "mimetype": "text/x-python",
   "name": "python",
   "nbconvert_exporter": "python",
   "pygments_lexer": "ipython3",
   "version": "3.11.5"
  }
 },
 "nbformat": 4,
 "nbformat_minor": 5
}
